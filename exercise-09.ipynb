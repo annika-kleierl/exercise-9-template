{
  "cells": [
    {
      "cell_type": "markdown",
      "metadata": {
        "id": "view-in-github",
        "colab_type": "text"
      },
      "source": [
        "<a href=\"https://colab.research.google.com/github/madlab-biosig/exercise-9-template/blob/main/exercise-09.ipynb\" target=\"_parent\"><img src=\"https://colab.research.google.com/assets/colab-badge.svg\" alt=\"Open In Colab\"/></a>"
      ]
    },
    {
      "cell_type": "markdown",
      "metadata": {
        "id": "TkgPY3ASP4HY"
      },
      "source": [
        "Before you turn this problem in, make sure everything runs as expected. First, **restart the kernel** (in the menubar, select Kernel$\\rightarrow$Restart) and then **run all cells** (in the menubar, select Cell$\\rightarrow$Run All).\n",
        "\n",
        "Make sure you fill in any place that says `YOUR CODE HERE` or \"YOUR ANSWER HERE\", as well as your name and collaborators below:"
      ]
    },
    {
      "cell_type": "code",
      "execution_count": null,
      "metadata": {
        "id": "tI6FBLr3P4HZ"
      },
      "outputs": [],
      "source": [
        "\"\"\"\n",
        "Hello :)\n",
        "\n",
        "Read the questions carefully and code what it is asked in the respective code block.\n",
        "\n",
        "There are also testing blocks that are there to check whether your implementations are correct, you\n",
        "can run them but DO NOT change the code inside of them.\n",
        "The tests are determined via the assert statements that you see on the testing blocks that can help you\n",
        "out during the coding of the exercises. If you pass all the visible asserts, you will probably get a good\n",
        "grade on the exercise.\n",
        "\n",
        "NOTE: THERE ARE ALSO HIDDEN TESTS THAT YOU CANNOT SEE, SO BE SURE TO PROGRAM YOUR FUNCTION CORRECTLY.\n",
        "IF YOU CHEAT ON THE ASSERTS WITH YOUR IMPLEMENTATION, YOU WONT PASS THE HIDDEN TESTS ;)\n",
        "\"\"\""
      ]
    },
    {
      "cell_type": "markdown",
      "metadata": {
        "id": "MGSim4YCP4HZ"
      },
      "source": [
        "---"
      ]
    },
    {
      "cell_type": "markdown",
      "metadata": {
        "tags": [],
        "id": "tisTw3kQP4Ha"
      },
      "source": [
        "### BioSig Exercises WS 23/24\n",
        "---"
      ]
    },
    {
      "cell_type": "markdown",
      "metadata": {
        "id": "5YsAkXgHP4Ha"
      },
      "source": [
        "# Exercise 09"
      ]
    },
    {
      "cell_type": "code",
      "execution_count": null,
      "metadata": {
        "tags": [],
        "id": "zwzwAMGYP4Ha"
      },
      "outputs": [],
      "source": [
        "# Imports and basic setup\n",
        "### UNCOMMENT THE CORRECT ONE\n",
        "# If you are using Jupyter Lab\n",
        "#matplotlib widget\n",
        "\n",
        "# If you are using Jupyter Notebook\n",
        "# %matplotlib notebook\n",
        "\n",
        "import matplotlib.pyplot as plt\n",
        "plt.rcParams.update({'figure.max_open_warning': 40})\n",
        "import pandas as pd\n",
        "import numpy as np\n"
      ]
    },
    {
      "cell_type": "code",
      "execution_count": null,
      "metadata": {
        "tags": [],
        "id": "6dyVhn5YP4Ha"
      },
      "outputs": [],
      "source": [
        "from scipy import signal"
      ]
    },
    {
      "cell_type": "code",
      "execution_count": null,
      "metadata": {
        "tags": [],
        "id": "a7PCLWpMP4Ha"
      },
      "outputs": [],
      "source": [
        "def pole_zero_plot(b=None, a=None, sos=None, ax=None, print_pz=True):\n",
        "    from matplotlib import patches\n",
        "    if sos is not None:\n",
        "        zeros, poles, _ = signal.sos2zpk(sos)\n",
        "    else:\n",
        "        zeros, poles, _ = signal.tf2zpk(b, a)\n",
        "    if print_pz is True:\n",
        "        print(\"zeros:\\n\", zeros, \"\\npoles:\\n'\", poles)\n",
        "\n",
        "    # To visualize pole-zero plane: plot unit circle and x,y axis\n",
        "    if not ax:\n",
        "        plt.figure()\n",
        "        ax = plt.subplot(1, 1, 1)\n",
        "\n",
        "    # Check for duplicates poles or zeros\n",
        "    import collections\n",
        "    multi_pole = ((k, v) for k, v in collections.Counter(poles).items() if v > 1)\n",
        "    multi_zeros = ((k, v) for k, v in collections.Counter(zeros).items() if v > 1)\n",
        "\n",
        "    # plot circle\n",
        "    circ = patches.Circle((0, 0), radius=1, fill=False,\n",
        "                                 color='black', ls='solid', alpha=0.1)\n",
        "    ax.add_patch(circ)\n",
        "\n",
        "    #plot axis\n",
        "    ax.axhline(y=0, color='0.9')\n",
        "    ax.axvline(x=0, color='0.9')\n",
        "\n",
        "    # plot poles and zeros\n",
        "    ax.plot(zeros.real, zeros.imag, 'o', markersize=9, alpha=0.5)\n",
        "    ax.plot(poles.real, poles.imag, 'x', markersize=9, alpha=0.5)\n",
        "\n",
        "    # Add label for duplicates\n",
        "    import itertools\n",
        "    for pos, c in itertools.chain(multi_pole, multi_zeros):\n",
        "        ax.text(pos.real, pos.imag, c, fontsize=12)\n",
        "\n",
        "    ax.axis('scaled')\n",
        "    ax.axis([-1.5, 1.5, -1.5, 1.5])\n",
        "\n",
        "    ax.set_xlabel('Re')\n",
        "    ax.set_ylabel('Im')\n",
        "\n",
        "def plot_freq_response(b=None, a=None, sos=None, sampling_rate=None, log_y=True,create_new_fig=True, label=None, unwrap=True):\n",
        "    \"\"\"Plot the freq response of a window.\n",
        "\n",
        "    Args:\n",
        "        coef: The coefficients of the window\n",
        "        sampling_rate: The sampling rate of a potential signal to be filtered with the window\n",
        "        log_y: If True the y=axis will be in base 10 log.\n",
        "        create_new_fig: If True a new figure is created for the plot\n",
        "    \"\"\"\n",
        "    # Calculate the frequency response using scipy.signal.freqz\n",
        "    # Use the fs parameter to calculate the output relative to the sampling rate\n",
        "    if not sampling_rate:\n",
        "        sampling_rate = 2 * np.pi\n",
        "\n",
        "    if sos is not None:\n",
        "        w, h = signal.sosfreqz(sos, fs=sampling_rate)\n",
        "    else:\n",
        "        w, h = signal.freqz(b, a, fs=sampling_rate)\n",
        "\n",
        "    if create_new_fig:\n",
        "        plt.figure()\n",
        "    ax1 = plt.gca()\n",
        "\n",
        "    if log_y is True:\n",
        "        h_plot = 20 * np.log10(abs(h))\n",
        "        ax1.set_ylabel('Amplification [dB]', color='b')\n",
        "    else:\n",
        "        h_plot = abs(h)\n",
        "        ax1.set_ylabel('Amplification [no unit]', color='b')\n",
        "\n",
        "    ax1.plot(w, h_plot, 'b', label=label)\n",
        "    ax1.set_xlabel('Frequency [Hz]')\n",
        "    ax2 = ax1.twinx()\n",
        "    angles = np.angle(h)\n",
        "    angles = np.nan_to_num(angles)\n",
        "    if unwrap:\n",
        "        angles = np.unwrap(angles)\n",
        "    ax2.plot(w, angles, 'g', label=label)\n",
        "    ax2.set_ylabel('Angle (radians)', color='g')\n",
        "    ax2.grid()\n",
        "    ax2.axis('tight')"
      ]
    },
    {
      "cell_type": "markdown",
      "metadata": {
        "tags": [],
        "id": "WgZzIogSP4Ha"
      },
      "source": [
        "## Ex 9.1: SOS-Filtering\n",
        "\n",
        "In last exercise we learned that filters of high order can get numerically unstable.\n",
        "A solution is to split a high-order filter into multiple filters of a lower order.\n",
        "With SOS (second-order-section) filtering, we describe a higher order filter by filters of first or second order.\n",
        "\n",
        "a) Create a “medium-order” Butterworth filter once using the parameter `output=’ba’`. Plot the pole-zero plot and the magnitude response of the filter.\n",
        "\n",
        "b) Create the same filter using the parameter `output=’sos’`. Inspect the output. In how many sections was the filter divided?\n",
        "\n",
        "Based on the documentation:\n",
        "*Array of second-order filter coefficients, must have a shape (n_sections, 6). Each row corresponds to a second-order section, with the first three columns providing the numerator coefficients and the last three providing the denominator coefficients.*\n",
        "\n",
        "c) Plot the pole-zero-plots for each section and compare it to the original pole-zero-plot. Now, plot the magnitude response of each section and compare it.\n",
        "\n",
        "d) Increase the filter order until the simple filter gets unstable. Create an SOS-filter with the same order and compare the outputs in the z-plane and regarding the magnitude response."
      ]
    },
    {
      "cell_type": "code",
      "execution_count": null,
      "metadata": {
        "deletable": false,
        "nbgrader": {
          "cell_type": "code",
          "checksum": "79accc0d32df32f1db058dcaf197ade3",
          "grade": false,
          "grade_id": "cell-00f52cf9bc5637bc",
          "locked": false,
          "schema_version": 3,
          "solution": true,
          "task": false
        },
        "tags": [],
        "id": "GjjZ1k2hP4Ha"
      },
      "outputs": [],
      "source": [
        "from scipy import signal\n",
        "\n",
        "N = 7\n",
        "Wn = 10  # Hz\n",
        "sampling_rate = 200  # Hz\n",
        "\n",
        "# Create a butterworth filter using the `ba` output. Name the filter coefficients as 'b' and 'a'.\n",
        "\n",
        "# YOUR CODE HERE\n",
        "raise NotImplementedError()\n",
        "\n",
        "# Plot the Pole-zero plot and the magnitude response\n",
        "# YOUR CODE HERE\n",
        "raise NotImplementedError()"
      ]
    },
    {
      "cell_type": "code",
      "execution_count": null,
      "metadata": {
        "deletable": false,
        "editable": false,
        "nbgrader": {
          "cell_type": "code",
          "checksum": "d7a44791aea78cb6e825f7305cc57e52",
          "grade": true,
          "grade_id": "cell-b0789b1baeb1b261",
          "locked": true,
          "points": 1,
          "schema_version": 3,
          "solution": false,
          "task": false
        },
        "tags": [],
        "id": "TB_MJVh7P4Ha"
      },
      "outputs": [],
      "source": [
        "\n",
        "assert abs(sum(b[0:3] - [1.22964989e-06, 8.60754921e-06, 2.58226476e-05])) < 1e-3, 'The first three coefficients are wrong.'\n",
        "print('The first three coefficients are correct!')"
      ]
    },
    {
      "cell_type": "code",
      "execution_count": null,
      "metadata": {
        "deletable": false,
        "nbgrader": {
          "cell_type": "code",
          "checksum": "a758a31a4bb275eed89e9bf9cbd6a39d",
          "grade": false,
          "grade_id": "cell-bb92de15094d2df1",
          "locked": false,
          "schema_version": 3,
          "solution": true,
          "task": false
        },
        "tags": [],
        "id": "D-iePaFMP4Ha"
      },
      "outputs": [],
      "source": [
        "# Create the same filter using `sos` output. Name to sos filter coefficients as 'sos'\n",
        "# YOUR CODE HERE\n",
        "raise NotImplementedError()\n",
        "# Inspect the output\n",
        "# YOUR CODE HERE\n",
        "raise NotImplementedError()"
      ]
    },
    {
      "cell_type": "code",
      "execution_count": null,
      "metadata": {
        "deletable": false,
        "editable": false,
        "nbgrader": {
          "cell_type": "code",
          "checksum": "ff29babf7358d62197395950018ca532",
          "grade": true,
          "grade_id": "cell-d0fab2f5ec637a13",
          "locked": true,
          "points": 1,
          "schema_version": 3,
          "solution": false,
          "task": false
        },
        "tags": [],
        "id": "Hd46gIv3P4Ha"
      },
      "outputs": [],
      "source": [
        "\n",
        "assert abs(sum(sos[0][0:3] - [1.22964989e-06, 2.45929977e-06, 1.22964989e-06])) < 1e-3, 'Three coefficients of the sos filter are wrong.'\n",
        "print('Three coefficients of the sos filter are correct!')\n"
      ]
    },
    {
      "cell_type": "code",
      "execution_count": null,
      "metadata": {
        "deletable": false,
        "nbgrader": {
          "cell_type": "code",
          "checksum": "79e6d1bf0a8f68f7d38a804d881c4692",
          "grade": true,
          "grade_id": "cell-99b8de2b14ff0081",
          "locked": false,
          "points": 0,
          "schema_version": 3,
          "solution": true,
          "task": false
        },
        "tags": [],
        "id": "cDc55Xc3P4Ha"
      },
      "outputs": [],
      "source": [
        "# Plot the pole zero plot for each section\n",
        "# YOUR CODE HERE\n",
        "raise NotImplementedError()\n",
        "\n",
        "# Plot the magnitude response of each sos section\n",
        "# YOUR CODE HERE\n",
        "raise NotImplementedError()"
      ]
    },
    {
      "cell_type": "code",
      "execution_count": null,
      "metadata": {
        "deletable": false,
        "nbgrader": {
          "cell_type": "code",
          "checksum": "fddd465e1cfa68640a07b2c1abbaaef6",
          "grade": false,
          "grade_id": "cell-70dd22627e2a756b",
          "locked": false,
          "schema_version": 3,
          "solution": true,
          "task": false
        },
        "tags": [],
        "id": "gZ5O8GfLP4Ha"
      },
      "outputs": [],
      "source": [
        "# Find a filter order N, where the traditional filter becomes unstable.\n",
        "# Than repeat the analysis above using this N. Name the variable for filter order as 'N'.\n",
        "# YOUR CODE HERE\n",
        "raise NotImplementedError()"
      ]
    },
    {
      "cell_type": "code",
      "execution_count": null,
      "metadata": {
        "deletable": false,
        "editable": false,
        "nbgrader": {
          "cell_type": "code",
          "checksum": "9243e8ba33f23bdb6bf263cf54c04f13",
          "grade": true,
          "grade_id": "cell-9de1397510c2a6eb",
          "locked": true,
          "points": 1,
          "schema_version": 3,
          "solution": false,
          "task": false
        },
        "tags": [],
        "id": "bxGb8gsXP4Ha"
      },
      "outputs": [],
      "source": [
        "# Block for the hidden tests. This block can be skipped."
      ]
    },
    {
      "cell_type": "code",
      "execution_count": null,
      "metadata": {
        "deletable": false,
        "nbgrader": {
          "cell_type": "code",
          "checksum": "e50869c286389a25ebed15354feaf0d6",
          "grade": true,
          "grade_id": "cell-9b1c77525cb8a58f",
          "locked": false,
          "points": 0,
          "schema_version": 3,
          "solution": true,
          "task": false
        },
        "tags": [],
        "id": "lZMnQS9cP4Hc"
      },
      "outputs": [],
      "source": [
        "# Recreate the unstable filter as SOS\n",
        "# Note that both, `pole_zero_plot` and the `plot_freq_response` have parameters to deal with sos intput.\n",
        "# YOUR CODE HERE\n",
        "raise NotImplementedError()"
      ]
    },
    {
      "cell_type": "markdown",
      "metadata": {
        "id": "GqAaa32uP4Hc"
      },
      "source": [
        "## Ex 9.2: Pan-Tompkins 1\n",
        "\n",
        "The Pan-Tompkins algorithm is the most famous algorithm for detecting QRS complexes in ECG signals.\n",
        "In the following we will implement the filter part of the Pan-Tompkins and apply it some ECG data that was recorded during the measurement exercise last year.\n",
        "\n",
        "Use the lecture as reference for all parts of the filter cascade.\n",
        "\n",
        "a) Implement the low-pass and high-pass component of the band-pass filter and apply it to the test data\n",
        "\n",
        "b) Implement the differentiator and apply it to the test data\n",
        "\n",
        "c) Square your test data\n",
        "\n",
        "d) Implement the moving window integrator and apply it to the test signal\n",
        "\n",
        "\n",
        "At every step you can use a pole-zero-plot to verify your implementation."
      ]
    },
    {
      "cell_type": "code",
      "execution_count": null,
      "metadata": {
        "tags": [],
        "id": "zGMfaEFEP4Hc"
      },
      "outputs": [],
      "source": [
        "# Load one of the data files and extract the exg column\n",
        "path = './data/example_ecg.csv'\n",
        "orig_sampling_rate = 256.  # Hz\n",
        "pan_sampling_rate = 200.  # Hz\n",
        "\n",
        "ecg = pd.read_csv(path, header=1, skiprows=0, index_col='timestamp')['ecg']\n",
        "\n",
        "# resample the data to 200 Hz for the algorithms\n",
        "ecg = pd.Series(signal.resample(ecg, int(len(ecg) * pan_sampling_rate/orig_sampling_rate)))\n",
        "ecg.index /= pan_sampling_rate\n",
        "\n",
        "# For visualisation and testing select part of the signal\n",
        "ecg_part = ecg.loc[150:170]\n",
        "\n",
        "plt.figure()\n",
        "ecg_part.plot()\n",
        "plt.xlabel('time [s]');"
      ]
    },
    {
      "cell_type": "markdown",
      "metadata": {
        "id": "NNthqCrDP4Hc"
      },
      "source": [
        "### Bandpass Filter Part 1: Low-pass"
      ]
    },
    {
      "cell_type": "markdown",
      "metadata": {
        "tags": [],
        "id": "7Vz5pP8CP4Hc"
      },
      "source": [
        "### Hint:\n",
        "\n",
        "From the lecture we know that the used low-pass filter has the following transfer function:\n",
        "\n",
        "$y(n) = 2\\cdot y(n-1) - y(n-2) + \\frac{1}{32} \\cdot (x(n) - 2\\cdot x(n-6) + x(n-12))$\n",
        "\n",
        "this leads to a transfer function of:\n",
        "\n",
        "$H(z) = ...$\n",
        "\n",
        "and finally to the following coefficients:\n",
        "\n",
        "```\n",
        "a_lowpass = [...]\n",
        "b_lowpass = [...]\n",
        "```"
      ]
    },
    {
      "cell_type": "code",
      "execution_count": null,
      "metadata": {
        "deletable": false,
        "nbgrader": {
          "cell_type": "code",
          "checksum": "a9a815a8621b8784bf8117397a37b44b",
          "grade": false,
          "grade_id": "cell-c694c171d3ecd36b",
          "locked": false,
          "schema_version": 3,
          "solution": true,
          "task": false
        },
        "tags": [],
        "id": "UDBvQUSvP4Hd"
      },
      "outputs": [],
      "source": [
        "# Design the filter based on the transfer function given in the lecture\n",
        "# and produce a pole-zero and a magnitude response plot\n",
        "# Store the filter coefficients in 'b_lowpass' and 'a_lowpass'\n",
        "# YOUR CODE HERE\n",
        "raise NotImplementedError()"
      ]
    },
    {
      "cell_type": "code",
      "execution_count": null,
      "metadata": {
        "deletable": false,
        "editable": false,
        "nbgrader": {
          "cell_type": "code",
          "checksum": "b7de1583efc69ce7271e5081051ae0cf",
          "grade": true,
          "grade_id": "cell-2b21a1e35857e25a",
          "locked": true,
          "points": 1,
          "schema_version": 3,
          "solution": false,
          "task": false
        },
        "tags": [],
        "id": "lAAJp0DRP4Hd"
      },
      "outputs": [],
      "source": [
        "\n",
        "assert b_lowpass[12] == 1. / 32, 'The last coefficient of b of the lowpass filter is wrong.'\n",
        "assert a_lowpass[2] == 1.0, 'The last coefficient of a of the lowpass filter is wrong.'\n",
        "print('The last coefficients of a and b of the lowpass filter are correct')"
      ]
    },
    {
      "cell_type": "code",
      "execution_count": null,
      "metadata": {
        "deletable": false,
        "nbgrader": {
          "cell_type": "code",
          "checksum": "1cc815e2de6f8036e79594f6c8aad46e",
          "grade": false,
          "grade_id": "cell-00c43e320e45014b",
          "locked": false,
          "schema_version": 3,
          "solution": true,
          "task": false
        },
        "tags": [],
        "id": "eQzjd00GP4Hd"
      },
      "outputs": [],
      "source": [
        "# Filter the ECG sample with the lowpass filter\n",
        "# Store the filtered signal in variable 'data_lp'\n",
        "# YOUR CODE HERE\n",
        "raise NotImplementedError()"
      ]
    },
    {
      "cell_type": "code",
      "execution_count": null,
      "metadata": {
        "deletable": false,
        "editable": false,
        "nbgrader": {
          "cell_type": "code",
          "checksum": "e039b23923e006728030c351450908be",
          "grade": true,
          "grade_id": "cell-0f292a7b15044df6",
          "locked": true,
          "points": 1,
          "schema_version": 3,
          "solution": false,
          "task": false
        },
        "tags": [],
        "id": "t_-hBQidP4Hd"
      },
      "outputs": [],
      "source": [
        "\n",
        "assert abs(sum(data_lp[0:2000])  + 260430.375538306) < 1e-3, 'Samples from the first half of the lowpass filtered signal is wrong'\n",
        "print('Samples from the first half of the lowpass filtered signal is correct')"
      ]
    },
    {
      "cell_type": "markdown",
      "metadata": {
        "id": "___rpW1gP4Hd"
      },
      "source": [
        "### Bandpass Filter Part 2: High-pass"
      ]
    },
    {
      "cell_type": "markdown",
      "metadata": {
        "id": "iQcUvc9gP4Hd"
      },
      "source": [
        "### Hint:\n",
        "\n",
        "From the lecture we know that the high-pass can be described by combining an all-pass with a low-pass filer.\n",
        "The following function describes the low-pass component:\n",
        "\n",
        "$y_{lp}(n) = y_{lp}(n-1) + x(n) - x(n-32)$\n",
        "\n",
        "From this we can calculate the transfer function:\n",
        "\n",
        "$H_{lp}(z) = ...$\n",
        "\n",
        "When we substitute this into the overall transfer function, we got from the lecture, we get:\n",
        "\n",
        "$H_{hp}(z) = ...$\n",
        "\n",
        "And finally, the parameters:\n",
        "\n",
        "```\n",
        "a_highpass = [...]\n",
        "b_highpass = [...]\n",
        "```"
      ]
    },
    {
      "cell_type": "code",
      "execution_count": null,
      "metadata": {
        "deletable": false,
        "nbgrader": {
          "cell_type": "code",
          "checksum": "5040ea6c30219e7ef350e42411d5c369",
          "grade": false,
          "grade_id": "cell-234e3b8de935d838",
          "locked": false,
          "schema_version": 3,
          "solution": true,
          "task": false
        },
        "tags": [],
        "id": "NCfhO2UGP4Hd"
      },
      "outputs": [],
      "source": [
        "# Design the filter based on the transfer function given in the lecture\n",
        "# and produce a pole-zero and a magnitude response plot\n",
        "# Store the filter coefficients in 'b_highpass' and 'a_highpass'\n",
        "\n",
        "# YOUR CODE HERE\n",
        "raise NotImplementedError()"
      ]
    },
    {
      "cell_type": "code",
      "execution_count": null,
      "metadata": {
        "deletable": false,
        "editable": false,
        "nbgrader": {
          "cell_type": "code",
          "checksum": "720b4c72b8ce9390953fcfd11e44c7c3",
          "grade": true,
          "grade_id": "cell-b95221a7720b4117",
          "locked": true,
          "points": 1,
          "schema_version": 3,
          "solution": false,
          "task": false
        },
        "tags": [],
        "id": "nxq-iCU2P4Hd"
      },
      "outputs": [],
      "source": [
        "\n",
        "assert b_highpass[32] == 1 / 32, 'The last coefficient of b of the highpass filter is wrong.'\n",
        "assert a_highpass[1] == -1, 'The last coefficient of a of the highpass filter is wrong.'\n",
        "print('The last coefficients of a and b of the highpass filter are correct')"
      ]
    },
    {
      "cell_type": "code",
      "execution_count": null,
      "metadata": {
        "deletable": false,
        "nbgrader": {
          "cell_type": "code",
          "checksum": "8226050e2de6412d9fa8ff7f9e590183",
          "grade": false,
          "grade_id": "cell-ee33d0c6d50ccd97",
          "locked": false,
          "schema_version": 3,
          "solution": true,
          "task": false
        },
        "tags": [],
        "id": "zkZgA0uPP4Hd"
      },
      "outputs": [],
      "source": [
        "# Apply the filter to the already lowpassed filter data and plot the result\n",
        "# Store the filtered signal in variable 'data_hp'\n",
        "# YOUR CODE HERE\n",
        "raise NotImplementedError()"
      ]
    },
    {
      "cell_type": "code",
      "execution_count": null,
      "metadata": {
        "deletable": false,
        "editable": false,
        "nbgrader": {
          "cell_type": "code",
          "checksum": "67a95fee95cebb0e8790b4c8fce69fd6",
          "grade": true,
          "grade_id": "cell-d5ce001a495ffe46",
          "locked": true,
          "points": 1,
          "schema_version": 3,
          "solution": false,
          "task": false
        },
        "tags": [],
        "id": "IadQ5_jjP4Hd"
      },
      "outputs": [],
      "source": [
        "\n",
        "assert abs(sum(data_hp[0:2000]) + 1457.7448013744804) < 1e-3, 'Samples from the first half of the highpass filtered signal is wrong'\n",
        "print('Samples from the first half of the highpass filtered signal is correct')"
      ]
    },
    {
      "cell_type": "markdown",
      "metadata": {
        "id": "YHK04DYOP4Hd"
      },
      "source": [
        "### Derivative Operator"
      ]
    },
    {
      "cell_type": "markdown",
      "metadata": {
        "id": "edUZiCyZP4Hd"
      },
      "source": [
        "### Solution:\n",
        "\n",
        "From the lecture we know that the derivative operator can be described by the following equation:\n",
        "\n",
        "$y(n) = \\frac{1}{8}\\left[2x(n)+x(n-1)-x(n-3)-2x(n-4)\\right]$\n",
        "\n",
        "From this we can calculate the transfer function:\n",
        "\n",
        "$H(z) = ...$\n",
        "\n",
        "And finally, the parameters:\n",
        "\n",
        "```\n",
        "a_diff = [...]\n",
        "b_diff = [...]\n",
        "```"
      ]
    },
    {
      "cell_type": "code",
      "execution_count": null,
      "metadata": {
        "deletable": false,
        "nbgrader": {
          "cell_type": "code",
          "checksum": "600056393184d3065565831da0814d0b",
          "grade": false,
          "grade_id": "cell-a927737702f01db2",
          "locked": false,
          "schema_version": 3,
          "solution": true,
          "task": false
        },
        "tags": [],
        "id": "0bN1fK83P4Hd"
      },
      "outputs": [],
      "source": [
        "# Design the filter based on the transfer function given in the lecture\n",
        "# and produce a pole-zero and a magnitude response plot\n",
        "# Store the filter coefficients in 'b_diff' and 'a_diff'\n",
        "\n",
        "# YOUR CODE HERE\n",
        "raise NotImplementedError()"
      ]
    },
    {
      "cell_type": "code",
      "execution_count": null,
      "metadata": {
        "deletable": false,
        "editable": false,
        "nbgrader": {
          "cell_type": "code",
          "checksum": "eb99be1148275e89b4f9961467d590d4",
          "grade": true,
          "grade_id": "cell-66056e6ce5b10be7",
          "locked": true,
          "points": 1,
          "schema_version": 3,
          "solution": false,
          "task": false
        },
        "tags": [],
        "id": "17BptGx6P4Hd"
      },
      "outputs": [],
      "source": [
        "\n",
        "assert a_diff[4] == 0, 'The last coefficient of a of the derivative operator is wrong.'\n",
        "assert b_diff[4] == -1./4, 'The last coefficient of b of the derivative operator is wrong.'\n",
        "print('The last coefficients of a and b of the derivative operator is correct.')"
      ]
    },
    {
      "cell_type": "code",
      "execution_count": null,
      "metadata": {
        "deletable": false,
        "nbgrader": {
          "cell_type": "code",
          "checksum": "e6adc8e1b20d80374801b55058f2134f",
          "grade": false,
          "grade_id": "cell-ec5cb87994fa1093",
          "locked": false,
          "schema_version": 3,
          "solution": true,
          "task": false
        },
        "tags": [],
        "id": "8KAjpZzXP4Hd"
      },
      "outputs": [],
      "source": [
        "# Apply the filter to the already bandpassed filter data and plot the result\n",
        "# Store the filtered signal in variable 'data_diff'\n",
        "\n",
        "# YOUR CODE HERE\n",
        "raise NotImplementedError()"
      ]
    },
    {
      "cell_type": "code",
      "execution_count": null,
      "metadata": {
        "deletable": false,
        "editable": false,
        "nbgrader": {
          "cell_type": "code",
          "checksum": "ee54a7fcec140d1b7869ed54cdacc616",
          "grade": true,
          "grade_id": "cell-58980b6b166ba8c3",
          "locked": true,
          "points": 1,
          "schema_version": 3,
          "solution": false,
          "task": false
        },
        "tags": [],
        "id": "i8iJeFO1P4Hd"
      },
      "outputs": [],
      "source": [
        "\n",
        "assert abs(sum(data_diff[0:2000]) + 189.16038490248738) < 1e-3, 'Samples from the first half of the signal after the derivative operator is wrong'\n",
        "print('Samples from the first half of the signal after the derivative operator is correct')\n"
      ]
    },
    {
      "cell_type": "markdown",
      "metadata": {
        "id": "buNsbD-hP4Hd"
      },
      "source": [
        "### Squaring"
      ]
    },
    {
      "cell_type": "code",
      "execution_count": null,
      "metadata": {
        "deletable": false,
        "nbgrader": {
          "cell_type": "code",
          "checksum": "c724f175b8a970d91551a93b2550ec9d",
          "grade": false,
          "grade_id": "cell-300145a43c8ba1e3",
          "locked": false,
          "schema_version": 3,
          "solution": true,
          "task": false
        },
        "tags": [],
        "id": "tPjgUlGtP4Hd"
      },
      "outputs": [],
      "source": [
        "# Square the signal and plot the result\n",
        "# Store the squared signal in variable 'data_sq'\n",
        "# YOUR CODE HERE\n",
        "raise NotImplementedError()"
      ]
    },
    {
      "cell_type": "code",
      "execution_count": null,
      "metadata": {
        "deletable": false,
        "editable": false,
        "nbgrader": {
          "cell_type": "code",
          "checksum": "0758c120d99ce4c0ae756df1017a121b",
          "grade": true,
          "grade_id": "cell-0a446e8b2224a626",
          "locked": true,
          "points": 1,
          "schema_version": 3,
          "solution": false,
          "task": false
        },
        "tags": [],
        "id": "iiy_ExhbP4Hl"
      },
      "outputs": [],
      "source": [
        "\n",
        "assert abs(sum(data_sq) - 240206591.26385316) < 1e-3, 'Samples from the first half of the squared signal is wrong'\n",
        "print('Samples from the first half of the squared signal is correct')"
      ]
    },
    {
      "cell_type": "markdown",
      "metadata": {
        "id": "fbdE2ZJsP4Hm"
      },
      "source": [
        "### Moving Window Integrator"
      ]
    },
    {
      "cell_type": "markdown",
      "metadata": {
        "id": "6-GhvBAiP4Hm"
      },
      "source": [
        "### Hint:\n",
        "\n",
        "From the lecture we know the transfer function:\n",
        "\n",
        "$y(n) = \\frac{1}{30}\\left[x(n-29) + x(n-28) + ... +x(n)\\right]$\n",
        "\n",
        "From this we can calculate the transfer function:\n",
        "\n",
        "$H(z) = ...$\n",
        "\n",
        "And finally, we can read of the parameters:\n",
        "\n",
        "```\n",
        "a = [...]\n",
        "b = [...]\n",
        "```"
      ]
    },
    {
      "cell_type": "code",
      "execution_count": null,
      "metadata": {
        "deletable": false,
        "nbgrader": {
          "cell_type": "code",
          "checksum": "aea28526e65d2324d2885167635f4f84",
          "grade": false,
          "grade_id": "cell-f7e51273713153f1",
          "locked": false,
          "schema_version": 3,
          "solution": true,
          "task": false
        },
        "tags": [],
        "id": "xxU9evm9P4Hm"
      },
      "outputs": [],
      "source": [
        "# Design the filter based on the transfer function given in the lecture\n",
        "# and produce a pole-zero and a magnitude response plot\n",
        "# Store the filter coefficients in 'b_int' and 'a_int'\n",
        "# YOUR CODE HERE\n",
        "raise NotImplementedError()"
      ]
    },
    {
      "cell_type": "code",
      "execution_count": null,
      "metadata": {
        "deletable": false,
        "editable": false,
        "nbgrader": {
          "cell_type": "code",
          "checksum": "a859a3f042f8885c0c8224f5b23c5e29",
          "grade": true,
          "grade_id": "cell-d1479b9704a7af36",
          "locked": true,
          "points": 1,
          "schema_version": 3,
          "solution": false,
          "task": false
        },
        "tags": [],
        "id": "4kL7HFt0P4Hm"
      },
      "outputs": [],
      "source": [
        "\n",
        "assert a_int[29] == 0, 'The last coefficient of a of the moving window integrator is wrong.'\n",
        "assert b_int[29] == 1/30, 'The last coefficient of b of the moving window integrator is wrong.'\n",
        "print('The last coefficients of a and b of the moving window integrator are correct.')\n"
      ]
    },
    {
      "cell_type": "code",
      "execution_count": null,
      "metadata": {
        "deletable": false,
        "nbgrader": {
          "cell_type": "code",
          "checksum": "71357ef5c596b89752ca8d9b052ca04b",
          "grade": false,
          "grade_id": "cell-e70f37704850727f",
          "locked": false,
          "schema_version": 3,
          "solution": true,
          "task": false
        },
        "tags": [],
        "id": "yfhKTHSLP4Hm"
      },
      "outputs": [],
      "source": [
        "# Apply the filter to the sqaured data and plot the result\n",
        "# Store the filtered signal in variable 'data_final'\n",
        "\n",
        "# YOUR CODE HERE\n",
        "raise NotImplementedError()"
      ]
    },
    {
      "cell_type": "code",
      "execution_count": null,
      "metadata": {
        "deletable": false,
        "editable": false,
        "nbgrader": {
          "cell_type": "code",
          "checksum": "d3e9f186faf3cc6789e66223b3420fbe",
          "grade": true,
          "grade_id": "cell-79dc0420c8b4c233",
          "locked": true,
          "points": 1,
          "schema_version": 3,
          "solution": false,
          "task": false
        },
        "tags": [],
        "id": "CawuqsOIP4Hm"
      },
      "outputs": [],
      "source": [
        "\n",
        "assert abs(sum(data_final[0:2000]) - 125808438.65881383) < 1e-3, 'Samples from the first half of the signal after the moving window integrator is wrong'\n",
        "print('Samples from the first half of the signal after the moving window integrator is correct')"
      ]
    }
  ],
  "metadata": {
    "kernelspec": {
      "display_name": "Python 3 (ipykernel)",
      "language": "python",
      "name": "python3"
    },
    "language_info": {
      "codemirror_mode": {
        "name": "ipython",
        "version": 3
      },
      "file_extension": ".py",
      "mimetype": "text/x-python",
      "name": "python",
      "nbconvert_exporter": "python",
      "pygments_lexer": "ipython3",
      "version": "3.9.13"
    },
    "colab": {
      "provenance": [],
      "include_colab_link": true
    }
  },
  "nbformat": 4,
  "nbformat_minor": 0
}